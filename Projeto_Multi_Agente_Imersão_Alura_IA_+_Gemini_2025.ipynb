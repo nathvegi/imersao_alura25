{
  "nbformat": 4,
  "nbformat_minor": 0,
  "metadata": {
    "colab": {
      "provenance": [],
      "authorship_tag": "ABX9TyNceIyknGRfTm6x3/mGMZbb",
      "include_colab_link": true
    },
    "kernelspec": {
      "name": "python3",
      "display_name": "Python 3"
    },
    "language_info": {
      "name": "python"
    }
  },
  "cells": [
    {
      "cell_type": "markdown",
      "metadata": {
        "id": "view-in-github",
        "colab_type": "text"
      },
      "source": [
        "<a href=\"https://colab.research.google.com/github/nathvegi/imersao_alura25/blob/main/Projeto_Multi_Agente_Imers%C3%A3o_Alura_IA_%2B_Gemini_2025.ipynb\" target=\"_parent\"><img src=\"https://colab.research.google.com/assets/colab-badge.svg\" alt=\"Open In Colab\"/></a>"
      ]
    },
    {
      "cell_type": "code",
      "source": [
        "from IPython import get_ipython\n",
        "from IPython.display import display"
      ],
      "metadata": {
        "id": "zsLzgPJdcc5W"
      },
      "execution_count": null,
      "outputs": []
    },
    {
      "cell_type": "code",
      "execution_count": null,
      "metadata": {
        "id": "yv7O6iR1M8rI"
      },
      "outputs": [],
      "source": [
        "!pip -q install google-genai"
      ]
    },
    {
      "cell_type": "code",
      "source": [
        "# Configuração de API KEY do Google Gemini\n",
        "\n",
        "import os\n",
        "from google.colab import userdata\n",
        "\n",
        "os.environ[\"GOOGLE_API_KEY\"] = userdata.get('GOOGLE_API_KEY')"
      ],
      "metadata": {
        "id": "OtEuUDZ0Nfbi"
      },
      "execution_count": null,
      "outputs": []
    },
    {
      "cell_type": "code",
      "source": [
        "# Configuração do Cliente da SDK do Gemini\n",
        "\n",
        "from google import genai\n",
        "\n",
        "client = genai.Client()\n",
        "\n",
        "modelo = \"gemini-2.0-flash\""
      ],
      "metadata": {
        "id": "AEj3d9h1N9ya"
      },
      "execution_count": null,
      "outputs": []
    },
    {
      "cell_type": "code",
      "source": [
        "# Instalação do Framework ADK de agentes Google\n",
        "\n",
        "!pip install -q google-adk\n"
      ],
      "metadata": {
        "id": "fC-6gUXaRsVT"
      },
      "execution_count": null,
      "outputs": []
    },
    {
      "cell_type": "code",
      "source": [
        "from typing import Union, List\n",
        "from google.adk.agents import Agent\n",
        "from google.adk.runners import Runner\n",
        "from google.adk.sessions import InMemorySessionService\n",
        "from google.adk.tools import google_search\n",
        "from google.genai import types\n",
        "from datetime import date\n",
        "import textwrap\n",
        "from IPython.display import display, Markdown\n",
        "import requests\n",
        "import warnings\n",
        "import base64\n",
        "\n",
        "warnings.filterwarnings(\"ignore\")"
      ],
      "metadata": {
        "id": "BUknYITQSs0D"
      },
      "execution_count": null,
      "outputs": []
    },
    {
      "cell_type": "code",
      "source": [
        "def call_agent(agent: Agent, image_bytes: Union[bytes, None] = None, message_text: Union[str, None] = None) -> str:\n",
        "    \"\"\" Chama um agente com bytes de imagem ou texto.\n",
        "\n",
        "    Args:\n",
        "        agent: O agente a ser chamado.\n",
        "        image_bytes: Os bytes da imagem.\n",
        "        message_text: O texto da mensagem (opcional).\n",
        "\n",
        "    Returns:\n",
        "        O texto da resposta final do agente.\n",
        "    \"\"\"\n",
        "\n",
        "    session_service = InMemorySessionService()\n",
        "\n",
        "    content_parts: List[types.Part] = []\n",
        "    if message_text:\n",
        "        content_parts.append(types.Part(text=message_text))\n",
        "    if image_bytes:\n",
        "        # Codifica os bytes da imagem em base64\n",
        "        encoded_image = base64.b64encode(image_bytes).decode('utf-8')\n",
        "        # Cria a Parte com os dados da imagem embutidos (inline_data)\n",
        "        content_parts.append(types.Part(\n",
        "            inline_data=types.Blob(mime_type=\"image/jpeg\", data=encoded_image)\n",
        "        ))\n",
        "\n",
        "    session = session_service.create_session(app_name=agent.name, user_id=\"user1\", session_id=\"session1\")\n",
        "\n",
        "    runner = Runner(agent=agent, app_name=agent.name, session_service=session_service)\n",
        "\n",
        "    content = types.Content(role=\"user\", parts=content_parts)\n",
        "\n",
        "    final_response = \"\"\n",
        "\n",
        "    for event in runner.run(user_id=\"user1\", session_id=\"session1\", new_message=content):\n",
        "        if event.is_final_response():\n",
        "            for part in event.content.parts:\n",
        "                if part.text is not None:\n",
        "                    final_response += part.text\n",
        "                    final_response += \"\\n\"\n",
        "    return final_response"
      ],
      "metadata": {
        "id": "lwNFr_8YVVp0"
      },
      "execution_count": null,
      "outputs": []
    },
    {
      "cell_type": "code",
      "source": [
        "def to_markdown(text):\n",
        "  text = text.replace('•', '  *')\n",
        "  return Markdown(textwrap.indent(text, '> ', predicate=lambda _: True))"
      ],
      "metadata": {
        "id": "RWA8EwgIV7D0"
      },
      "execution_count": null,
      "outputs": []
    },
    {
      "cell_type": "code",
      "source": [
        "print(\"✨ 🚀 Descrições de Produtos Turbinadas com SEO e IA: Sistema de 3 Agentes - Iniciando agora! ✨\\n\")\n",
        "\n",
        "imagem_produto_bytes = None\n",
        "caminho_para_imagem = \"\"\n",
        "\n",
        "while not imagem_produto_bytes:\n",
        "    caminho_para_imagem = input(\"▶️ Por favor, digite o CAMINHO do arquivo da imagem que você carregou (obrigatório): \")\n",
        "    if not caminho_para_imagem.strip():\n",
        "        print(\"⚠️ O caminho da imagem é obrigatório. Por favor, insira o caminho.\")\n",
        "        continue  # Volta para o início do loop para solicitar o caminho novamente\n",
        "\n",
        "    try:\n",
        "        # Abrir o arquivo de imagem no modo binário de leitura ('rb')\n",
        "        with open(caminho_para_imagem, 'rb') as f:\n",
        "            imagem_produto_bytes = f.read()\n",
        "        print(f\"✅ Imagem '{caminho_para_imagem}' carregada com sucesso!\")\n",
        "    except FileNotFoundError:\n",
        "        print(f\"❌ Erro: O arquivo '{caminho_para_imagem}' não foi encontrado. Por favor, verifique o caminho e tente novamente.\")\n",
        "    except Exception as e:\n",
        "        print(f\"❌ Ocorreu um erro ao ler o arquivo: {e}. Por favor, tente novamente.\")\n",
        "\n",
        "# --- Obter informações textuais adicionais do usuário ---\n",
        "info_textual_adicional = input(\"❓ Por favor, digite informações adicionais sobre o produto (ou deixe em branco se não houver): \")"
      ],
      "metadata": {
        "colab": {
          "base_uri": "https://localhost:8080/"
        },
        "id": "vLQ1t6mRF6ie",
        "outputId": "0c227e17-c1c8-47a4-fcce-9198be02aa30"
      },
      "execution_count": null,
      "outputs": [
        {
          "name": "stdout",
          "output_type": "stream",
          "text": [
            "✨ 🚀 Descrições de Produtos Turbinadas com SEO e IA: Sistema de 3 Agentes - Iniciando agora! ✨\n",
            "\n",
            "▶️ Por favor, digite o CAMINHO do arquivo da imagem que você carregou (obrigatório): /content/pijama.jpg\n",
            "✅ Imagem '/content/pijama.jpg' carregada com sucesso!\n",
            "❓ Por favor, digite informações textuais adicionais sobre o produto (ou deixe em branco se não houver): Malha 100% Algodão, Produto oficial Licenciado da Warner\n"
          ]
        }
      ]
    },
    {
      "cell_type": "code",
      "source": [
        "##########################################\n",
        "# --- Agente 1: Analista de Imagem --- #\n",
        "##########################################\n",
        "def agente_imagem(imagem_produto_bytes):\n",
        "    analista_imagem = Agent(\n",
        "        name=\"agente_imagem\",\n",
        "        model=\"gemini-2.0-flash\",\n",
        "        description=\"Agente que processa a imagem com a SDK do Gemini e extrai as características visuais.\",\n",
        "        instruction=\"\"\"\n",
        "        Você é um agente de imagem. A sua tarefa é analisar a imagem deste produto e descrever suas características visuais principais,\n",
        "        incluindo cor, formato, material aparente e quaisquer detalhes de design ou textura.\n",
        "        Liste as características de forma concisa. Você deve ignorar o que o modelo estiver calçando, porque o produto a ser vendido é apenas o pijama.\n",
        "        Você precisa considerar se o modelo é adulto ou infantil, feminino ou masculino para informar que o produto é adulto ou infantil, feminino ou masculino.\n",
        "        \"\"\"\n",
        "    )\n",
        "\n",
        "    # Passa a imagem diretamente para o argumento image_bytes\n",
        "    caracteristicas_visuais = call_agent(analista_imagem, image_bytes=imagem_produto_bytes, message_text=\"Por favor, descreva esta imagem:\")\n",
        "\n",
        "    return caracteristicas_visuais"
      ],
      "metadata": {
        "id": "ePtXhhCnWAXy"
      },
      "execution_count": null,
      "outputs": []
    },
    {
      "cell_type": "code",
      "source": [
        "#######################################################\n",
        "# --- Agente 2: Analista de Texto e Enriquecimento --- #\n",
        "#######################################################\n",
        "def agente_analista_texto(caracteristicas_visuais, info_textual_adicional):\n",
        "    analista_texto = Agent(\n",
        "        name=\"agente_analista_texto\",\n",
        "        model=\"gemini-2.0-flash\",\n",
        "        description=\"Agente que combina características visuais com informações textuais para enriquecer a descrição do produto.\",\n",
        "        instruction=\"\"\"\n",
        "        Você é um analista de imagem enriquecido. Sua tarefa é combinar as características visuais do produto,\n",
        "        fornecidas anteriormente, com as informações textuais adicionais, fornecidas pelo usuário.\n",
        "        Use ambas as fontes de informação para criar uma descrição completa e detalhada do produto.\n",
        "        Inclua detalhes que não eram visíveis apenas na imagem, mas que foram mencionados nas informações textuais.\n",
        "        Formule uma descrição fluida e informativa que combine todos os dados disponíveis.\n",
        "\n",
        "        \"\"\"\n",
        "\n",
        "    )\n",
        "\n",
        "    entrada_do_agente_analista_texto = f\"\"\"\n",
        "    Características Visuais: {caracteristicas_visuais}\n",
        "\n",
        "    Informações Textuais Adicionais: {info_textual_adicional}\n",
        "\n",
        "    Por favor, crie uma descrição enriquecida do produto com base nessas informações.\n",
        "    \"\"\"\n",
        "\n",
        "    # Executa o agente\n",
        "    descricao_enriquecida = call_agent(analista_texto, message_text=entrada_do_agente_analista_texto)\n",
        "    return descricao_enriquecida"
      ],
      "metadata": {
        "id": "9SkI5b5kk7-g"
      },
      "execution_count": null,
      "outputs": []
    },
    {
      "cell_type": "code",
      "source": [
        "################################################################\n",
        "# --- Agente 3: Otimizador de SEO e Redator de Descrições --- #\n",
        "################################################################\n",
        "def agente_otimizador_redator(descricao_preliminar):\n",
        "    otimizador_redator = Agent(\n",
        "        name=\"agente_otimizador_redator\",\n",
        "        model=\"gemini-2.0-flash\",\n",
        "        description=\"Agente que otimiza descrições de produtos para SEO e vendas online.\",\n",
        "        instruction=\"\"\"\n",
        "        Você é um Analista Otimizador de SEO e Redator de Descrições especializado em e-commerce.\n",
        "        Sua tarefa é pegar a descrição preliminar de um produto e otimizá-la para vendas online e motores de busca (SEO).\n",
        "\n",
        "        Para otimizar a descrição:\n",
        "        1. Analise a descrição preliminar para entender o produto e suas características.\n",
        "        2. Pense em palavras-chave relevantes que os clientes usariam para buscar este tipo de produto online.\n",
        "        3. Incorpore naturalmente essas palavras-chave ao longo da descrição, especialmente no início.\n",
        "        4. Use linguagem persuasiva focada nos benefícios para o cliente. Destaque como o produto resolve um problema ou atende a uma necessidade.\n",
        "        5. Mantenha a descrição concisa e fácil de ler. Não use bullet points e gere frases curtas se apropriado.\n",
        "\n",
        "        Crie a descrição otimizada para SEO e vendas.\n",
        "            \"\"\"\n",
        "\n",
        "    )\n",
        "    entrada_do_agente_otimizador_redator = f\"\"\"\n",
        "    Descrição Preliminar: {descricao_preliminar}\n",
        "\n",
        "    Por favor, otimize esta descrição para SEO e vendas online.\n",
        "    \"\"\"\n",
        "    # Executa o agente\n",
        "    descricao_otimizada = call_agent(otimizador_redator, message_text=entrada_do_agente_otimizador_redator)\n",
        "    return descricao_otimizada"
      ],
      "metadata": {
        "id": "rYNsKYKomOoJ"
      },
      "execution_count": null,
      "outputs": []
    },
    {
      "cell_type": "code",
      "source": [
        "# Lógica do sistema de agentes ##################################\n",
        "print(f\"Perfeito! Aguarde enquanto processamos a imagem: {caminho_para_imagem}\")\n",
        "\n",
        "imagens_analisadas = agente_imagem(imagem_produto_bytes)\n",
        "print(\"\\n--- Resultado do Agente 1 (Analista de Imagem) ---\\n\")\n",
        "display(to_markdown(imagens_analisadas))\n",
        "print(\"---------------------------------\")\n",
        "\n",
        "descricao_imagem = agente_analista_texto(imagens_analisadas, info_textual_adicional)\n",
        "print(\"\\n--- Resultado do Agente 2 (Analista de Texto e Enriquecimento) ---\\n\")\n",
        "display(to_markdown(descricao_imagem))\n",
        "print(\"---------------------------------\")\n",
        "\n",
        "descricao_final = agente_otimizador_redator(descricao_imagem)\n",
        "print(\"\\n--- Resultado do Agente 3 (Otimizador de SEO e Redator de Descrições) ---\\n\")\n",
        "display(to_markdown(descricao_final))\n",
        "print(\"---------------------------------\")"
      ],
      "metadata": {
        "colab": {
          "base_uri": "https://localhost:8080/",
          "height": 628
        },
        "id": "_HojYVgoI9Cn",
        "outputId": "608bc0d8-74a2-452b-deca-8e3d25ac32de"
      },
      "execution_count": null,
      "outputs": [
        {
          "output_type": "stream",
          "name": "stdout",
          "text": [
            "Perfeito! Aguarde enquanto processamos a imagem: /content/pijama.jpg\n",
            "\n",
            "--- Resultado do Agente 1 (Analista de Imagem) ---\n",
            "\n"
          ]
        },
        {
          "output_type": "display_data",
          "data": {
            "text/plain": [
              "<IPython.core.display.Markdown object>"
            ],
            "text/markdown": "> Aqui estão as características visuais principais do pijama infantil masculino na imagem:\n> \n> *   A camiseta é de cor marrom e apresenta uma estampa grande do personagem Scooby-Doo na frente.\n> *   O shorts possui um padrão xadrez em tons de branco, amarelo e azul.\n> *   O conjunto é feito de um material macio e confortável.\n"
          },
          "metadata": {}
        },
        {
          "output_type": "stream",
          "name": "stdout",
          "text": [
            "---------------------------------\n",
            "\n",
            "--- Resultado do Agente 2 (Analista de Texto e Enriquecimento) ---\n",
            "\n"
          ]
        },
        {
          "output_type": "display_data",
          "data": {
            "text/plain": [
              "<IPython.core.display.Markdown object>"
            ],
            "text/markdown": "> Aqui está uma descrição enriquecida do produto, combinando as características visuais e as informações textuais:\n> \n> Este adorável pijama infantil masculino apresenta uma camiseta marrom com uma estampa vibrante do personagem Scooby-Doo, perfeita para os fãs do famoso desenho animado. O shorts, com um padrão xadrez moderno em tons de branco, amarelo e azul, complementa o visual de forma divertida e charmosa. Confeccionado em malha 100% algodão, este pijama oferece um toque suave e aconchegante, garantindo o máximo de conforto para uma noite de sono tranquila. Além disso, este é um produto oficial licenciado da Warner Bros., assegurando a qualidade e autenticidade do design. Ideal para noites agradáveis e momentos de diversão em casa.\n> \n"
          },
          "metadata": {}
        },
        {
          "output_type": "stream",
          "name": "stdout",
          "text": [
            "---------------------------------\n",
            "\n",
            "--- Resultado do Agente 3 (Otimizador de SEO e Redator de Descrições) ---\n",
            "\n"
          ]
        },
        {
          "output_type": "display_data",
          "data": {
            "text/plain": [
              "<IPython.core.display.Markdown object>"
            ],
            "text/markdown": "> **Pijama Infantil Scooby-Doo Warner Bros. - Conforto e Diversão para Noites Tranquilas!**\n> \n> Seu pequeno fã de Scooby-Doo vai adorar este pijama infantil masculino! Composto por uma camiseta marrom com estampa vibrante do famoso personagem e um shorts xadrez moderno em tons de branco, amarelo e azul, este pijama é perfeito para noites aconchegantes e cheias de diversão.\n> \n> Confeccionado em malha 100% algodão, o pijama proporciona um toque suave e garante o máximo de conforto para uma noite de sono tranquila. Além de lindo e divertido, este é um produto oficial licenciado da Warner Bros., garantindo a qualidade e autenticidade que seu filho merece. Ideal para noites agradáveis e momentos de alegria em casa.\n"
          },
          "metadata": {}
        },
        {
          "output_type": "stream",
          "name": "stdout",
          "text": [
            "---------------------------------\n"
          ]
        }
      ]
    }
  ]
}